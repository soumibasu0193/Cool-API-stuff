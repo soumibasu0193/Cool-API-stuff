{
 "cells": [
  {
   "cell_type": "code",
   "execution_count": 5,
   "id": "48b3a4e1",
   "metadata": {},
   "outputs": [
    {
     "data": {
      "text/html": [
       "<div>\n",
       "<style scoped>\n",
       "    .dataframe tbody tr th:only-of-type {\n",
       "        vertical-align: middle;\n",
       "    }\n",
       "\n",
       "    .dataframe tbody tr th {\n",
       "        vertical-align: top;\n",
       "    }\n",
       "\n",
       "    .dataframe thead th {\n",
       "        text-align: right;\n",
       "    }\n",
       "</style>\n",
       "<table border=\"1\" class=\"dataframe\">\n",
       "  <thead>\n",
       "    <tr style=\"text-align: right;\">\n",
       "      <th></th>\n",
       "      <th>Series Code</th>\n",
       "      <th>Frequency</th>\n",
       "      <th>Series</th>\n",
       "      <th>Units of measurement</th>\n",
       "      <th>Location</th>\n",
       "      <th>Age group</th>\n",
       "      <th>Sex</th>\n",
       "      <th>Reference Area</th>\n",
       "      <th>Source type</th>\n",
       "      <th>Time period</th>\n",
       "      <th>Observation Value</th>\n",
       "      <th>Unit multiplier</th>\n",
       "      <th>Nature of data points</th>\n",
       "      <th>Time period details</th>\n",
       "      <th>Source details</th>\n",
       "      <th>Footnotes</th>\n",
       "    </tr>\n",
       "  </thead>\n",
       "  <tbody>\n",
       "    <tr>\n",
       "      <th>0</th>\n",
       "      <td>IT_USE_ii99</td>\n",
       "      <td>Annual</td>\n",
       "      <td>Internet users</td>\n",
       "      <td>Per 100 population</td>\n",
       "      <td>Total (national level)</td>\n",
       "      <td>All age ranges</td>\n",
       "      <td>Both sexes</td>\n",
       "      <td>India</td>\n",
       "      <td>Not available</td>\n",
       "      <td>1999</td>\n",
       "      <td>0.2</td>\n",
       "      <td>Units</td>\n",
       "      <td>Country Data</td>\n",
       "      <td>1999</td>\n",
       "      <td>Ministry of Information Technology</td>\n",
       "      <td>NaN</td>\n",
       "    </tr>\n",
       "    <tr>\n",
       "      <th>1</th>\n",
       "      <td>IT_USE_ii99</td>\n",
       "      <td>Annual</td>\n",
       "      <td>Internet users</td>\n",
       "      <td>Per 100 population</td>\n",
       "      <td>Total (national level)</td>\n",
       "      <td>All age ranges</td>\n",
       "      <td>Both sexes</td>\n",
       "      <td>India</td>\n",
       "      <td>Not available</td>\n",
       "      <td>2002</td>\n",
       "      <td>3.2</td>\n",
       "      <td>Units</td>\n",
       "      <td>Country Data</td>\n",
       "      <td>2002</td>\n",
       "      <td>Ministry of Information Technology</td>\n",
       "      <td>NaN</td>\n",
       "    </tr>\n",
       "    <tr>\n",
       "      <th>2</th>\n",
       "      <td>IT_USE_ii99</td>\n",
       "      <td>Annual</td>\n",
       "      <td>Internet users</td>\n",
       "      <td>Per 100 population</td>\n",
       "      <td>Total (national level)</td>\n",
       "      <td>All age ranges</td>\n",
       "      <td>Both sexes</td>\n",
       "      <td>India</td>\n",
       "      <td>Not available</td>\n",
       "      <td>2006</td>\n",
       "      <td>7.0</td>\n",
       "      <td>Units</td>\n",
       "      <td>Country Data</td>\n",
       "      <td>2006</td>\n",
       "      <td>Ministry of Information Technology</td>\n",
       "      <td>NaN</td>\n",
       "    </tr>\n",
       "    <tr>\n",
       "      <th>3</th>\n",
       "      <td>SE_ADT_1524</td>\n",
       "      <td>Annual</td>\n",
       "      <td>Literacy rate</td>\n",
       "      <td>Percent</td>\n",
       "      <td>Total (national level)</td>\n",
       "      <td>15-24 year olds</td>\n",
       "      <td>Both sexes</td>\n",
       "      <td>India</td>\n",
       "      <td>Not available</td>\n",
       "      <td>1991</td>\n",
       "      <td>48.5</td>\n",
       "      <td>Units</td>\n",
       "      <td>Country Data</td>\n",
       "      <td>1991</td>\n",
       "      <td>Planning Commission</td>\n",
       "      <td>NaN</td>\n",
       "    </tr>\n",
       "    <tr>\n",
       "      <th>4</th>\n",
       "      <td>SE_ADT_1524</td>\n",
       "      <td>Annual</td>\n",
       "      <td>Literacy rate</td>\n",
       "      <td>Percent</td>\n",
       "      <td>Total (national level)</td>\n",
       "      <td>15-24 year olds</td>\n",
       "      <td>Both sexes</td>\n",
       "      <td>India</td>\n",
       "      <td>Not available</td>\n",
       "      <td>2001</td>\n",
       "      <td>76.4</td>\n",
       "      <td>Units</td>\n",
       "      <td>Country Data</td>\n",
       "      <td>2001</td>\n",
       "      <td>Planning Commission</td>\n",
       "      <td>NaN</td>\n",
       "    </tr>\n",
       "  </tbody>\n",
       "</table>\n",
       "</div>"
      ],
      "text/plain": [
       "   Series Code Frequency          Series Units of measurement  \\\n",
       "0  IT_USE_ii99    Annual  Internet users   Per 100 population   \n",
       "1  IT_USE_ii99    Annual  Internet users   Per 100 population   \n",
       "2  IT_USE_ii99    Annual  Internet users   Per 100 population   \n",
       "3  SE_ADT_1524    Annual   Literacy rate              Percent   \n",
       "4  SE_ADT_1524    Annual   Literacy rate              Percent   \n",
       "\n",
       "                 Location        Age group         Sex Reference Area  \\\n",
       "0  Total (national level)   All age ranges  Both sexes          India   \n",
       "1  Total (national level)   All age ranges  Both sexes          India   \n",
       "2  Total (national level)   All age ranges  Both sexes          India   \n",
       "3  Total (national level)  15-24 year olds  Both sexes          India   \n",
       "4  Total (national level)  15-24 year olds  Both sexes          India   \n",
       "\n",
       "     Source type  Time period  Observation Value Unit multiplier  \\\n",
       "0  Not available         1999                0.2           Units   \n",
       "1  Not available         2002                3.2           Units   \n",
       "2  Not available         2006                7.0           Units   \n",
       "3  Not available         1991               48.5           Units   \n",
       "4  Not available         2001               76.4           Units   \n",
       "\n",
       "  Nature of data points  Time period details  \\\n",
       "0          Country Data                 1999   \n",
       "1          Country Data                 2002   \n",
       "2          Country Data                 2006   \n",
       "3          Country Data                 1991   \n",
       "4          Country Data                 2001   \n",
       "\n",
       "                       Source details  Footnotes  \n",
       "0  Ministry of Information Technology        NaN  \n",
       "1  Ministry of Information Technology        NaN  \n",
       "2  Ministry of Information Technology        NaN  \n",
       "3                 Planning Commission        NaN  \n",
       "4                 Planning Commission        NaN  "
      ]
     },
     "execution_count": 5,
     "metadata": {},
     "output_type": "execute_result"
    }
   ],
   "source": [
    "import pandas as pd\n",
    "  \n",
    "# Read IND_data.csv into a DataFrame, assigned to df\n",
    "df = pd.read_csv(\"IND_data.csv\")\n",
    "  \n",
    "# Prints the first 5 rows of a DataFrame as default\n",
    "df.head()"
   ]
  },
  {
   "cell_type": "code",
   "execution_count": 19,
   "id": "5f8cd3bc",
   "metadata": {},
   "outputs": [
    {
     "data": {
      "text/plain": [
       "14"
      ]
     },
     "execution_count": 19,
     "metadata": {},
     "output_type": "execute_result"
    }
   ],
   "source": [
    "df[df[\"Observation Value\"]>50][\"Observation Value\"].count()"
   ]
  },
  {
   "cell_type": "code",
   "execution_count": 4,
   "id": "2500e450",
   "metadata": {},
   "outputs": [
    {
     "data": {
      "image/png": "[encoded data removed]",
      "text/plain": [
       "<Figure size 432x288 with 1 Axes>"
      ]
     },
     "metadata": {
      "needs_background": "light"
     },
     "output_type": "display_data"
    },
    {
     "data": {
      "image/png": "[encoded data removed]",
      "text/plain": [
       "<Figure size 432x288 with 1 Axes>"
      ]
     },
     "metadata": {
      "needs_background": "light"
     },
     "output_type": "display_data"
    }
   ],
   "source": [
    "import matplotlib.pyplot as plt\n",
    "# plot a histogram \n",
    "df['Observation Value'].hist(bins=10)\n",
    "  \n",
    "# shows presence of a lot of outliers/extreme values\n",
    "df.boxplot(column='Observation Value', by = 'Time period')\n",
    "  \n",
    "# plotting points as a scatter plot\n",
    "x = df[\"Observation Value\"]\n",
    "y = df[\"Time period\"]\n",
    "plt.scatter(x, y, label= \"stars\", color= \"m\", \n",
    "            marker= \"*\", s=30)\n",
    "# x-axis label\n",
    "plt.xlabel('Observation Value')\n",
    "# frequency label\n",
    "plt.ylabel('Time period')\n",
    "# function to show the plot\n",
    "plt.show()"
   ]
  }
 ],
 "metadata": {
  "kernelspec": {
   "display_name": "Python 3",
   "language": "python",
   "name": "python3"
  },
  "language_info": {
   "codemirror_mode": {
    "name": "ipython",
    "version": 3
   },
   "file_extension": ".py",
   "mimetype": "text/x-python",
   "name": "python",
   "nbconvert_exporter": "python",
   "pygments_lexer": "ipython3",
   "version": "3.8.8"
  }
 },
 "nbformat": 4,
 "nbformat_minor": 5
}
