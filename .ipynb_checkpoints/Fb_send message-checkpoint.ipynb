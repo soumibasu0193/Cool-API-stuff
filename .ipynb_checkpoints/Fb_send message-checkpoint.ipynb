{
 "cells": [
  {
   "cell_type": "code",
   "execution_count": 13,
   "id": "99ad64f8",
   "metadata": {},
   "outputs": [],
   "source": [
    "%%capture\n",
    "!pip install fbchat\n",
    "!pip install selenium\n",
    "!pip install webdriver_manager"
   ]
  },
  {
   "cell_type": "code",
   "execution_count": null,
   "id": "27a9785d",
   "metadata": {},
   "outputs": [],
   "source": [
    "# Automated login to your facebook account\n",
    "import selenium\n",
    "from getpass import getpass\n",
    "from selenium import webdriver\n",
    "from time import sleep\n",
    "from webdriver_manager.chrome import ChromeDriverManager\n",
    "from selenium.webdriver.chrome.options import Options \n",
    "  \n",
    "usr=input('Enter Email Id:') \n",
    "pwd=getpass(input('Enter Password:'))\n",
    "  \n",
    "driver = webdriver.Chrome(ChromeDriverManager().install())\n",
    "driver.get('https://www.facebook.com/')\n",
    "print (\"Opened facebook\")\n",
    "sleep(1)\n",
    "  \n",
    "username_box = driver.find_element_by_id('email')\n",
    "username_box.send_keys(usr)\n",
    "print (\"Email Id entered\")\n",
    "sleep(1)\n",
    "  \n",
    "password_box = driver.find_element_by_id('pass')\n",
    "password_box.send_keys(pwd)\n",
    "print (\"Password entered\")\n",
    "  \n",
    "login_box = driver.find_element_by_name('login')\n",
    "login_box.click()\n",
    "  \n",
    "print (\"Done\")\n",
    "input('Press anything to quit')\n",
    "driver.quit()\n",
    "print(\"Finished\")"
   ]
  },
  {
   "cell_type": "code",
   "execution_count": null,
   "id": "27019759",
   "metadata": {},
   "outputs": [],
   "source": [
    "## send message to a facebook friend\n",
    "\n",
    "import fbchat\n",
    "from getpass import getpass\n",
    "username = input(\"Username: \")\n",
    "client = fbchat.Client(username, getpass())\n",
    "no_of_friends = int(raw_input(\"Number of friends: \"))\n",
    "for i in range(no_of_friends):\n",
    "    name = input(\"Name: \")\n",
    "    friends = client.getUsers(name)  # return a list of names\n",
    "    friend = friends[0]\n",
    "    msg = input(\"Message: \")\n",
    "    sent = client.send(friend.uid, msg)\n",
    "    if sent:\n",
    "        print(\"Message sent successfully!\")"
   ]
  }
 ],
 "metadata": {
  "kernelspec": {
   "display_name": "Python 3",
   "language": "python",
   "name": "python3"
  },
  "language_info": {
   "codemirror_mode": {
    "name": "ipython",
    "version": 3
   },
   "file_extension": ".py",
   "mimetype": "text/x-python",
   "name": "python",
   "nbconvert_exporter": "python",
   "pygments_lexer": "ipython3",
   "version": "3.8.8"
  }
 },
 "nbformat": 4,
 "nbformat_minor": 5
}
